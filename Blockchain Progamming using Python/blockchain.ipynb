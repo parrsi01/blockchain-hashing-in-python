{
 "cells": [
  {
   "cell_type": "code",
   "execution_count": 2,
   "metadata": {},
   "outputs": [],
   "source": [
    "#Author: Simon Parris\n",
    "#Date:11/17/2021\n",
    "\n",
    "# -- blockchain programming in: -Python --\n",
    "\n",
    "#Blockchain initialization\n",
    "\n"
   ]
  },
  {
   "cell_type": "code",
   "execution_count": 23,
   "metadata": {},
   "outputs": [
    {
     "name": "stdout",
     "output_type": "stream",
     "text": [
      "Enter your transaction amount please: 9\n",
      "[[[1], 9.0]]\n",
      "Enter your transaction amount please: 8\n",
      "[[[1], 9.0], [[[1], 9.0], 8.0]]\n",
      "Enter your transaction amount please: 7\n",
      "[[[1], 9.0], [[[1], 9.0], 8.0], [[[[1], 9.0], 8.0], 7.0]]\n"
     ]
    }
   ],
   "source": [
    "#Initializing our blockchain list\n",
    "blockchain = []\n",
    "\n",
    "\n",
    "def last_value():\n",
    "    #Function returns last blockchain value\n",
    "    return blockchain[-1]\n",
    "\n",
    "def add_value(transaction_amount, last_transaction_value=[1]):\n",
    "    #Function adds new value as well as last transaction value to the blockchain.\n",
    "    # Arguments: - transaction_amount: the amount that should be added.\n",
    "    #            - last_transaction_value: The last blockchain transaction (default[1]).\n",
    "    blockchain.append([last_transaction_value, transaction_amount])\n",
    "    print(blockchain)\n",
    "    \n",
    "def get_user_input():\n",
    "    #Returns user input from the screen: transaction amount is a float value.\n",
    "    user_input = float(input(\"Enter your transaction amount please: \"))\n",
    "    return user_input\n",
    "tx_amount = get_user_input()\n",
    "add_value(tx_amount)\n",
    "\n",
    "tx_amount = get_user_input()\n",
    "add_value(last_transaction_value=last_value(), transaction_amount=tx_amount)\n",
    "\n",
    "tx_amount = get_user_input()\n",
    "add_value(tx_amount, last_value())"
   ]
  },
  {
   "cell_type": "code",
   "execution_count": null,
   "metadata": {},
   "outputs": [],
   "source": []
  }
 ],
 "metadata": {
  "kernelspec": {
   "display_name": "Python 3",
   "language": "python",
   "name": "python3"
  },
  "language_info": {
   "codemirror_mode": {
    "name": "ipython",
    "version": 3
   },
   "file_extension": ".py",
   "mimetype": "text/x-python",
   "name": "python",
   "nbconvert_exporter": "python",
   "pygments_lexer": "ipython3",
   "version": "3.8.5"
  }
 },
 "nbformat": 4,
 "nbformat_minor": 4
}
